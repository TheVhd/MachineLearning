{
 "cells": [
  {
   "cell_type": "code",
   "execution_count": 3,
   "metadata": {},
   "outputs": [
    {
     "name": "stdout",
     "output_type": "stream",
     "text": [
      "[['Rick', 80, 75, 85, 90, 95], ['Jim', 75, 80, 75, 85, 100], ['Mike', 80, 80, 80, 90, 95]]\n",
      "\n",
      "[['Rick', 80, 75, 85, 90, 95], ['Jim', 75, 80, 75, 85, 100], ['Mike', 80, 80, 90]]\n"
     ]
    }
   ],
   "source": [
    "# a is a 2 - D matrix with integers\n",
    "a = [['Rick',80,75,85,90,95],\n",
    "     ['Jim',75,80,75,85,100],\n",
    "     ['Mike',80,80,80,90,95]]\n",
    "\n",
    "b = [['Rick',80,75,85,90,95],\n",
    "     ['Jim',75,80,75,85,100],\n",
    "     ['Mike',80,80,90]]\n",
    "\n",
    "print(a)\n",
    "print()\n",
    "print(b)"
   ]
  },
  {
   "cell_type": "code",
   "execution_count": 12,
   "metadata": {},
   "outputs": [
    {
     "name": "stdout",
     "output_type": "stream",
     "text": [
      "[3, 3, 3]\n",
      "[[3, 3, 3, 3], [3, 3, 3, 3], [3, 3, 3, 3]]\n"
     ]
    }
   ],
   "source": [
    "# Let's see how to create a Dynamic Matrix usign for loop\n",
    "n = 3\n",
    "m = 4\n",
    "a = [3] * n\n",
    "print(a)\n",
    "for i in range (n):\n",
    "    a[i] = [3] * m\n",
    "print(a)"
   ]
  },
  {
   "cell_type": "code",
   "execution_count": 23,
   "metadata": {},
   "outputs": [
    {
     "name": "stdout",
     "output_type": "stream",
     "text": [
      "[[3, 3, 3, 3], [3, 3, 3, 3], [3, 3, 3, 3]]\n",
      "[3, 3, 3, 3]\n",
      "3\n",
      "3\n"
     ]
    }
   ],
   "source": [
    "# Accessing elements\n",
    "print(a)\n",
    "print(a[0])\n",
    "print(a[0][1])\n",
    "print(a[1][2])"
   ]
  },
  {
   "cell_type": "code",
   "execution_count": 24,
   "metadata": {},
   "outputs": [
    {
     "name": "stdout",
     "output_type": "stream",
     "text": [
      "[[3, 3, 3, 3], [3, 3, 3, 3], [3, 3, 3, 3]]\n",
      "[3, 3, 3, 3]\n",
      "3\n",
      "3\n"
     ]
    }
   ],
   "source": [
    "# Negative Indexing\n",
    "print(a)\n",
    "print(a[-1])\n",
    "print(a[-1][-2])\n",
    "print(a[-2][-3])"
   ]
  },
  {
   "cell_type": "code",
   "execution_count": 25,
   "metadata": {},
   "outputs": [
    {
     "name": "stdout",
     "output_type": "stream",
     "text": [
      "[[3, 3, 3, 3], [3, 3, 3, 3], [3, 3, 3, 3]]\n",
      "[3, 3, 3, 3]\n",
      "[3, 75, 3, 3]\n",
      "[[3, 75, 3, 3], [3, 3, 3, 3], [3, 3, 3, 3]]\n",
      "[[3, 75, 3, 3], [3, 3, 3, 3], ['Sam', 82, 73, 87, 69, 100]]\n"
     ]
    }
   ],
   "source": [
    "# Changing elements of a matrix in python\n",
    "print(a)\n",
    "b = a[0]\n",
    "print(b)\n",
    "\n",
    "b[1]=75\n",
    "print(b)\n",
    "print(a)\n",
    "\n",
    "a[2]=['Sam',82, 73, 87, 69,100]\n",
    "print(a)"
   ]
  }
 ],
 "metadata": {
  "kernelspec": {
   "display_name": "Python 3.10.1 64-bit",
   "language": "python",
   "name": "python3"
  },
  "language_info": {
   "codemirror_mode": {
    "name": "ipython",
    "version": 3
   },
   "file_extension": ".py",
   "mimetype": "text/x-python",
   "name": "python",
   "nbconvert_exporter": "python",
   "pygments_lexer": "ipython3",
   "version": "3.10.1"
  },
  "orig_nbformat": 4,
  "vscode": {
   "interpreter": {
    "hash": "f6ed830c0c39d7fc52b2a8cf6c5a1c0f77a94f141a44c21187562bfb09d0ee55"
   }
  }
 },
 "nbformat": 4,
 "nbformat_minor": 2
}
