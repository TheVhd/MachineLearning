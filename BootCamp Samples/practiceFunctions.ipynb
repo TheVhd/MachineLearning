{
 "cells": [
  {
   "cell_type": "code",
   "execution_count": 4,
   "metadata": {},
   "outputs": [
    {
     "ename": "KeyError",
     "evalue": "'08,'",
     "output_type": "error",
     "traceback": [
      "\u001b[1;31m---------------------------------------------------------------------------\u001b[0m",
      "\u001b[1;31mKeyError\u001b[0m                                  Traceback (most recent call last)",
      "Cell \u001b[1;32mIn [4], line 40\u001b[0m\n\u001b[0;32m     37\u001b[0m sort_months()\n\u001b[0;32m     39\u001b[0m \u001b[39m# Sort the dates\u001b[39;00m\n\u001b[1;32m---> 40\u001b[0m dates\u001b[39m.\u001b[39;49msort(key\u001b[39m=\u001b[39;49mcmp)\n\u001b[0;32m     42\u001b[0m \u001b[39m# Print the sorted dates\u001b[39;00m\n\u001b[0;32m     43\u001b[0m printDates(dates, n)\n",
      "Cell \u001b[1;32mIn [4], line 21\u001b[0m, in \u001b[0;36mcmp\u001b[1;34m(date)\u001b[0m\n\u001b[0;32m     19\u001b[0m \u001b[39mdef\u001b[39;00m \u001b[39mcmp\u001b[39m(date):\n\u001b[0;32m     20\u001b[0m     date\u001b[39m=\u001b[39mdate\u001b[39m.\u001b[39msplit()\n\u001b[1;32m---> 21\u001b[0m     \u001b[39mreturn\u001b[39;00m \u001b[39mint\u001b[39m(date[\u001b[39m2\u001b[39m]),monthsMap[date[\u001b[39m1\u001b[39;49m]],\u001b[39mint\u001b[39m(date[\u001b[39m0\u001b[39m]),\n",
      "\u001b[1;31mKeyError\u001b[0m: '08,'"
     ]
    }
   ],
   "source": [
    "monthsMap=dict()\n",
    " \n",
    "# Function which initializes the monthsMap\n",
    "def sort_months():\n",
    " \n",
    "    monthsMap[\"Jan\"] = 1\n",
    "    monthsMap[\"Feb\"] = 2\n",
    "    monthsMap[\"Mar\"] = 3\n",
    "    monthsMap[\"Apr\"] = 4\n",
    "    monthsMap[\"May\"] = 5\n",
    "    monthsMap[\"Jun\"] = 6\n",
    "    monthsMap[\"Jul\"] = 7\n",
    "    monthsMap[\"Aug\"] = 8\n",
    "    monthsMap[\"Sep\"] = 9\n",
    "    monthsMap[\"Oct\"] = 10\n",
    "    monthsMap[\"Nov\"] = 11\n",
    "    monthsMap[\"Dec\"] = 12\n",
    " \n",
    "def cmp(date):\n",
    "    date=date.split()\n",
    "    return int(date[2]),monthsMap[date[1]],int(date[0]),\n",
    " \n",
    " \n",
    "# Utility function to print the contents\n",
    "# of the array\n",
    "def printDates(dates, n):\n",
    "    for i in range(n):\n",
    "        print(dates[i])\n",
    " \n",
    "# Driver code\n",
    "if __name__ == '__main__':\n",
    " \n",
    "    dates = [\"Jul 08, 2022\", \"6:13 AM\",\"Jul 07, 2022\", \"12:20 PM\",\"Jan 27, 2022\", \"7:43 AM\",\"Jan 27, 2022\", \"7:43 AM\",\"Jan 27, 2022\" \"7:11 AM\",\"Jan 27, 2022\", \"7:11 AM\",\"Oct 21, 2022\" \"2:23 PM\",\"Jul 07, 2022\" \"11:28 AM\",\"Jan 27, 2022\", \"7:43 AM\",\"Jul 07, 2022\" \"10:58 AM\"]\n",
    "    n = len(dates)\n",
    " \n",
    "    # Order the months\n",
    "    sort_months()\n",
    " \n",
    "    # Sort the dates\n",
    "    dates.sort(key=cmp)\n",
    " \n",
    "    # Print the sorted dates\n",
    "    printDates(dates, n)"
   ]
  },
  {
   "cell_type": "code",
   "execution_count": 13,
   "metadata": {},
   "outputs": [
    {
     "name": "stdout",
     "output_type": "stream",
     "text": [
      "['pplea', 'box', 'cat']\n",
      "['pplea', 'xob', 'cat']\n",
      "['pplea', 'xob', 'tca']\n",
      "pplea tca xob\n"
     ]
    }
   ],
   "source": [
    "def sortStr(s, N):\n",
    " \n",
    "    # Traverse the array of Strings\n",
    "    for i in range(N):\n",
    " \n",
    "        # Sort each String in descending order\n",
    "        s[i] = \"\".join(reversed(\"\".join(sorted(s[i]))))\n",
    "        print(s)\n",
    " \n",
    "    # Sort the array in ascending order\n",
    "    s = \" \".join(sorted(s))\n",
    " \n",
    "    # Print the array of Strings\n",
    "    print(s)\n",
    "# Driver Code\n",
    "if __name__ == '__main__':\n",
    "    s = [\"apple\", \"box\", \"cat\"]\n",
    "    N = len(s)\n",
    "    sortStr(s, N)"
   ]
  },
  {
   "cell_type": "code",
   "execution_count": 8,
   "metadata": {},
   "outputs": [
    {
     "name": "stdout",
     "output_type": "stream",
     "text": [
      "THIS IS AN EXAMPLE OF A STRING\n",
      "This is an example of a string\n",
      "This is an NEW Approach of a STRING\n",
      "8\n",
      "-1\n"
     ]
    }
   ],
   "source": [
    "text = \"This is an EXAMPLE of a STRING\"\n",
    "a = text.upper()\n",
    "print(a)\n",
    "print(text.capitalize())\n",
    "print(text.replace('EXAMPLE', \"NEW Approach\"))\n",
    "print(text.find(\"a\"))\n",
    "print(text.find(\"two\"))"
   ]
  },
  {
   "cell_type": "code",
   "execution_count": 12,
   "metadata": {},
   "outputs": [
    {
     "name": "stdout",
     "output_type": "stream",
     "text": [
      "22 5\n",
      "27 5\n"
     ]
    }
   ],
   "source": [
    "x = 10\n",
    "x += 12\n",
    "y = int(x/4)\n",
    "print(x, y)\n",
    "x = x + y\n",
    "print(x,y)"
   ]
  },
  {
   "cell_type": "code",
   "execution_count": 15,
   "metadata": {},
   "outputs": [
    {
     "name": "stdout",
     "output_type": "stream",
     "text": [
      "1\n",
      "1\n"
     ]
    }
   ],
   "source": [
    "a = 4\n",
    "def polynomial(a,b,c,x):\n",
    "    return a*x**2 + b*x + c\n",
    "\n",
    "b = a\n",
    "b *= a\n",
    "c = 1\n",
    "result = polynomial(a,b,c,0)\n",
    "print(result)\n",
    "a += 3\n",
    "a = 0\n",
    "print(result)"
   ]
  },
  {
   "cell_type": "code",
   "execution_count": 37,
   "metadata": {},
   "outputs": [
    {
     "name": "stdout",
     "output_type": "stream",
     "text": [
      "V\n",
      "a\n",
      "h\n",
      "i\n",
      "t\n",
      "Good Progress!\n",
      " \n",
      "Now we got the space\n",
      "U\n",
      "Vahit U\n",
      "Elif U\n",
      "Aysel U\n",
      "Mehmet U\n",
      "Mustafa U\n",
      "Rumeysa U\n",
      "Enes U\n"
     ]
    }
   ],
   "source": [
    "strangeList = [\"Vahit U\",\"Elif U\", \"Aysel U\", \"Mehmet U\",\"Mustafa U\", \"Rumeysa U\", \"Enes U\" ]\n",
    "def check(strangeList):\n",
    "    for i in strangeList:\n",
    "        if i == \"Vahit U\": \n",
    "            for x in i:\n",
    "                print(x)\n",
    "                if x == \"t\": print(\"Good Progress!\")\n",
    "                elif x == \" \": print(\"Now we got the space\") \n",
    "            print(i)\n",
    "        else: print(i)\n",
    "check(strangeList)"
   ]
  },
  {
   "cell_type": "code",
   "execution_count": 51,
   "metadata": {},
   "outputs": [
    {
     "name": "stdout",
     "output_type": "stream",
     "text": [
      "3\n",
      "['joey', 'Martin', 'Mary']\n",
      "['joey', 'John', 'Mary']\n",
      "John\n",
      "Mary\n"
     ]
    }
   ],
   "source": [
    "import logging\n",
    "\n",
    "\n",
    "guests = []\n",
    "guests.extend((\"joey\",\"Martin\", \"Mary\"))\n",
    "#guests.append(\"joey\")\n",
    "#guests.append(\"Martin\")\n",
    "#guests.append(\"Mary\")\n",
    "print(len(guests))\n",
    "print(guests)\n",
    "logging.info(\"I Am Changing the list element now!\")\n",
    "guests[1] = \"John\"\n",
    "logging.info(\"I Changed the john with Martin\")\n",
    "print(guests)\n",
    "del guests[0]\n",
    "for guest in guests:\n",
    "    print(guest)"
   ]
  },
  {
   "cell_type": "code",
   "execution_count": 67,
   "metadata": {},
   "outputs": [
    {
     "name": "stdout",
     "output_type": "stream",
     "text": [
      "{'Vahit': 45000, 'Murat': 17000, 'Cemil': 256000, 'Hasan': 78000}\n",
      "{'Cemil': 256000, 'Hasan': 78000, 'Murat': 17000, 'Vahit': 45000}\n",
      "The balance is now: 34000\n"
     ]
    }
   ],
   "source": [
    "import pprint\n",
    "accounts = {'Vahit': 45000, 'Murat': 17000, \"Cemil\": 256000, \"Hasan\":78000 }\n",
    "print(accounts)\n",
    "pp = pprint.PrettyPrinter(indent=4)\n",
    "pp.pprint(accounts)\n",
    "must = accounts['Vahit']\n",
    "must -= 11000\n",
    "print(\"The balance is now: \" + str(must))"
   ]
  },
  {
   "cell_type": "code",
   "execution_count": 147,
   "metadata": {},
   "outputs": [
    {
     "name": "stdout",
     "output_type": "stream",
     "text": [
      "207\n",
      "Sample Numbers From random lib\n",
      "Random number between 0 and 110 is 89\n",
      "0.63132636739586\n",
      "-22.14865401643295\n"
     ]
    }
   ],
   "source": [
    "import random\n",
    "\n",
    "r1 = random.randint(3, 934)\n",
    "print(r1)\n",
    "print(\"Sample Numbers From random lib\")\n",
    "r2 = random.randint(0, 110)\n",
    "print(\"Random number between 0 and 110 is % s\" % (r2))\n",
    "r3 = [random.gauss(4,2)]\n",
    "for i in r3: print(i)\n",
    "print(random.gauss(10,111))"
   ]
  },
  {
   "cell_type": "code",
   "execution_count": 2,
   "metadata": {},
   "outputs": [
    {
     "ename": "ModuleNotFoundError",
     "evalue": "No module named 'numpy'",
     "output_type": "error",
     "traceback": [
      "\u001b[1;31m---------------------------------------------------------------------------\u001b[0m",
      "\u001b[1;31mModuleNotFoundError\u001b[0m                       Traceback (most recent call last)",
      "Cell \u001b[1;32mIn [2], line 1\u001b[0m\n\u001b[1;32m----> 1\u001b[0m \u001b[39mimport\u001b[39;00m \u001b[39mnumpy\u001b[39;00m \u001b[39mas\u001b[39;00m \u001b[39mnp\u001b[39;00m\n",
      "\u001b[1;31mModuleNotFoundError\u001b[0m: No module named 'numpy'"
     ]
    }
   ],
   "source": [
    "import numpy as np"
   ]
  }
 ],
 "metadata": {
  "kernelspec": {
   "display_name": "Python 3.10.1 64-bit",
   "language": "python",
   "name": "python3"
  },
  "language_info": {
   "codemirror_mode": {
    "name": "ipython",
    "version": 3
   },
   "file_extension": ".py",
   "mimetype": "text/x-python",
   "name": "python",
   "nbconvert_exporter": "python",
   "pygments_lexer": "ipython3",
   "version": "3.10.1"
  },
  "orig_nbformat": 4,
  "vscode": {
   "interpreter": {
    "hash": "f6ed830c0c39d7fc52b2a8cf6c5a1c0f77a94f141a44c21187562bfb09d0ee55"
   }
  }
 },
 "nbformat": 4,
 "nbformat_minor": 2
}
