{
 "cells": [
  {
   "cell_type": "code",
   "execution_count": 8,
   "metadata": {},
   "outputs": [
    {
     "name": "stdout",
     "output_type": "stream",
     "text": [
      "['pplea', 'box', 'cat']\n",
      "['pplea', 'xob', 'cat']\n",
      "['pplea', 'xob', 'tca']\n",
      "pplea tca xob\n"
     ]
    }
   ],
   "source": [
    "def sortStr(s, N):\n",
    " \n",
    "    # Traverse the array of Strings\n",
    "    for i in range(N):\n",
    " \n",
    "        # Sort each String in descending order\n",
    "        s[i] = \"\".join(reversed(\"\".join(sorted(s[i]))))\n",
    "        print(s)\n",
    " \n",
    "    # Sort the array in ascending order\n",
    "    s = \" \".join(sorted(s))\n",
    " \n",
    "    # Print the array of Strings\n",
    "    print(s)\n",
    "# Driver Code\n",
    "if __name__ == '__main__':\n",
    "    s = [\"apple\", \"box\", \"cat\"]\n",
    "    N = len(s)\n",
    "    sortStr(s, N)"
   ]
  },
  {
   "cell_type": "code",
   "execution_count": 8,
   "metadata": {},
   "outputs": [
    {
     "name": "stdout",
     "output_type": "stream",
     "text": [
      "THIS IS AN EXAMPLE OF A STRING\n",
      "This is an example of a string\n",
      "This is an NEW Approach of a STRING\n",
      "8\n",
      "-1\n"
     ]
    }
   ],
   "source": [
    "text = \"This is an EXAMPLE of a STRING\"\n",
    "a = text.upper()\n",
    "print(a)\n",
    "print(text.capitalize())\n",
    "print(text.replace('EXAMPLE', \"NEW Approach\"))\n",
    "print(text.find(\"a\"))\n",
    "print(text.find(\"two\"))"
   ]
  },
  {
   "cell_type": "code",
   "execution_count": 12,
   "metadata": {},
   "outputs": [
    {
     "name": "stdout",
     "output_type": "stream",
     "text": [
      "22 5\n",
      "27 5\n"
     ]
    }
   ],
   "source": [
    "x = 10\n",
    "x += 12\n",
    "y = int(x/4)\n",
    "print(x, y)\n",
    "x = x + y\n",
    "print(x,y)"
   ]
  },
  {
   "cell_type": "code",
   "execution_count": 15,
   "metadata": {},
   "outputs": [
    {
     "name": "stdout",
     "output_type": "stream",
     "text": [
      "1\n",
      "1\n"
     ]
    }
   ],
   "source": [
    "a = 4\n",
    "def polynomial(a,b,c,x):\n",
    "    return a*x**2 + b*x + c\n",
    "\n",
    "b = a\n",
    "b *= a\n",
    "c = 1\n",
    "result = polynomial(a,b,c,0)\n",
    "print(result)\n",
    "a += 3\n",
    "a = 0\n",
    "print(result)"
   ]
  },
  {
   "cell_type": "code",
   "execution_count": 2,
   "metadata": {},
   "outputs": [
    {
     "name": "stdout",
     "output_type": "stream",
     "text": [
      "H\n",
      "a\n",
      "s\n",
      "a\n",
      "n\n",
      " \n",
      "Now we got the space\n",
      "U\n",
      "Hasan U\n",
      "Elly C\n",
      "Ayla U\n",
      "Mert T\n",
      "Mustafa B\n",
      "Rookie U\n",
      "Enny U\n"
     ]
    }
   ],
   "source": [
    "strangeList = [\"Hasan U\",\"Elly C\", \"Ayla U\", \"Mert T\",\"Mustafa B\", \"Rookie U\", \"Enny U\" ]\n",
    "def check(strangeList):\n",
    "    for i in strangeList:\n",
    "        if i == \"Hasan U\": \n",
    "            for x in i:\n",
    "                print(x)\n",
    "                if x == \"t\": print(\"Good Progress!\")\n",
    "                elif x == \" \": print(\"Now we got the space\") \n",
    "            print(i)\n",
    "        else: print(i)\n",
    "check(strangeList)"
   ]
  },
  {
   "cell_type": "code",
   "execution_count": 51,
   "metadata": {},
   "outputs": [
    {
     "name": "stdout",
     "output_type": "stream",
     "text": [
      "3\n",
      "['joey', 'Martin', 'Mary']\n",
      "['joey', 'John', 'Mary']\n",
      "John\n",
      "Mary\n"
     ]
    }
   ],
   "source": [
    "import logging\n",
    "\n",
    "\n",
    "guests = []\n",
    "guests.extend((\"joey\",\"Martin\", \"Mary\"))\n",
    "#guests.append(\"joey\")\n",
    "#guests.append(\"Martin\")\n",
    "#guests.append(\"Mary\")\n",
    "print(len(guests))\n",
    "print(guests)\n",
    "logging.info(\"I Am Changing the list element now!\")\n",
    "guests[1] = \"John\"\n",
    "logging.info(\"I Changed the john with Martin\")\n",
    "print(guests)\n",
    "del guests[0]\n",
    "for guest in guests:\n",
    "    print(guest)"
   ]
  },
  {
   "cell_type": "code",
   "execution_count": 3,
   "metadata": {},
   "outputs": [
    {
     "name": "stdout",
     "output_type": "stream",
     "text": [
      "{'Cahit': 45000, 'Murat': 17000, 'Cemil': 256000, 'Hasan': 78000}\n",
      "{'Cahit': 45000, 'Cemil': 256000, 'Hasan': 78000, 'Murat': 17000}\n",
      "The balance is now: 34000\n"
     ]
    }
   ],
   "source": [
    "import pprint\n",
    "accounts = {'Cahit': 45000, 'Murat': 17000, \"Cemil\": 256000, \"Hasan\":78000 }\n",
    "print(accounts)\n",
    "pp = pprint.PrettyPrinter(indent=4)\n",
    "pp.pprint(accounts)\n",
    "must = accounts['Cahit']\n",
    "must -= 11000\n",
    "print(\"The balance is now: \" + str(must))"
   ]
  },
  {
   "cell_type": "code",
   "execution_count": 147,
   "metadata": {},
   "outputs": [
    {
     "name": "stdout",
     "output_type": "stream",
     "text": [
      "207\n",
      "Sample Numbers From random lib\n",
      "Random number between 0 and 110 is 89\n",
      "0.63132636739586\n",
      "-22.14865401643295\n"
     ]
    }
   ],
   "source": [
    "import random\n",
    "\n",
    "r1 = random.randint(3, 934)\n",
    "print(r1)\n",
    "print(\"Sample Numbers From random lib\")\n",
    "r2 = random.randint(0, 110)\n",
    "print(\"Random number between 0 and 110 is % s\" % (r2))\n",
    "r3 = [random.gauss(4,2)]\n",
    "for i in r3: print(i)\n",
    "print(random.gauss(10,111))"
   ]
  }
 ],
 "metadata": {
  "kernelspec": {
   "display_name": "Python 3.10.1 64-bit",
   "language": "python",
   "name": "python3"
  },
  "language_info": {
   "codemirror_mode": {
    "name": "ipython",
    "version": 3
   },
   "file_extension": ".py",
   "mimetype": "text/x-python",
   "name": "python",
   "nbconvert_exporter": "python",
   "pygments_lexer": "ipython3",
   "version": "3.10.1"
  },
  "orig_nbformat": 4,
  "vscode": {
   "interpreter": {
    "hash": "f6ed830c0c39d7fc52b2a8cf6c5a1c0f77a94f141a44c21187562bfb09d0ee55"
   }
  }
 },
 "nbformat": 4,
 "nbformat_minor": 2
}
