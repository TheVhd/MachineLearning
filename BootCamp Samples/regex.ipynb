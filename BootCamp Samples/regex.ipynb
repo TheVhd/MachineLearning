{
 "cells": [
  {
   "cell_type": "markdown",
   "metadata": {},
   "source": [
    "\"\"\"\"\"\n",
    "Reguler expression allow us to locate and change strings in very powerful way\n",
    "They work in almost exactly the same way in every programming language as well.\n",
    "\n",
    "Regular expressions (Regex) are used to \n",
    "1- Search for a specific string in a large amount of data\n",
    "2- Verify that a string has the proper format (Email, phone etc.)\n",
    "3- Find a string and replace it with another string\n",
    "4- Format data into the proper form for importing for example.\n",
    "\n",
    "Its main idea is as follows re.search('find this string','in this string' )\n",
    "\"\"\""
   ]
  },
  {
   "cell_type": "code",
   "execution_count": 2,
   "metadata": {},
   "outputs": [
    {
     "name": "stdout",
     "output_type": "stream",
     "text": [
      "We've got Some devs here\n"
     ]
    }
   ],
   "source": [
    "import re\n",
    "if re.search(\"dev\", \"Devoting is the earliest Method where We need development!\"):\n",
    "    print(\"We've got Some devs here\")"
   ]
  },
  {
   "cell_type": "code",
   "execution_count": 4,
   "metadata": {},
   "outputs": [
    {
     "name": "stdout",
     "output_type": "stream",
     "text": [
      "at \n",
      "att\n"
     ]
    }
   ],
   "source": [
    "# Get All matches\n",
    "# findall() returns a list of matches \n",
    "# . is used to match any 1 character or space\n",
    "allmatches = re.findall('at.', 'Today at 6 pm, I will attend the course')\n",
    "for i in allmatches:\n",
    "    print(i)"
   ]
  },
  {
   "cell_type": "code",
   "execution_count": 5,
   "metadata": {},
   "outputs": [
    {
     "name": "stdout",
     "output_type": "stream",
     "text": [
      "(4, 8)\n",
      "dev \n",
      "(19, 23)\n",
      "deve\n",
      "(42, 46)\n",
      "devi\n"
     ]
    }
   ],
   "source": [
    "\"\"\"\n",
    "finditer returns an iterator of matching objects \n",
    "we can use span to get the location\n",
    "\"\"\"\n",
    "theStr = \"The dev was at the development department deviation\"\n",
    "\n",
    "for i in re.finditer(\"dev.\", theStr):\n",
    "    # Span returns a tuple\n",
    "    locTuple = i.span()\n",
    "    print(locTuple)\n",
    "\n",
    "    # Slice the match out using the tuple values\n",
    "    print(theStr[locTuple[0]:locTuple[1]])"
   ]
  },
  {
   "cell_type": "markdown",
   "metadata": {},
   "source": [
    "Match 1 of Several Letters\n",
    "\n",
    "Square brackets will match any one of the characters between\n",
    "The brackets not including upper and lowercase varieties\n",
    "unless they are listed"
   ]
  },
  {
   "cell_type": "code",
   "execution_count": 6,
   "metadata": {},
   "outputs": [
    {
     "name": "stdout",
     "output_type": "stream",
     "text": [
      "De\n",
      "de\n",
      "\n"
     ]
    }
   ],
   "source": [
    "text = 'Deviation was a phase of development'\n",
    "text_1 = re.findall(\"[Dwpd]e\", text) # \"[Dwpd][e]\" returns the same values\n",
    "for i in text_1:\n",
    "    print(i)\n",
    "print()"
   ]
  },
  {
   "cell_type": "markdown",
   "metadata": {},
   "source": [
    "We can also allow for characters in a range\n",
    "Mind that to include upper and lowercase letters"
   ]
  },
  {
   "cell_type": "code",
   "execution_count": 7,
   "metadata": {},
   "outputs": [
    {
     "name": "stdout",
     "output_type": "stream",
     "text": [
      "Bat\n",
      "Cat\n",
      "dat\n",
      "fat\n",
      "tat\n",
      "\n"
     ]
    }
   ],
   "source": [
    "someString = \"Bat Cat dat fat tat bird\"\n",
    "Sstring = re.findall(\"[BdCft]at\", someString)\n",
    "for i in Sstring:\n",
    "    print(i)\n",
    "print()"
   ]
  },
  {
   "cell_type": "code",
   "execution_count": 8,
   "metadata": {},
   "outputs": [
    {
     "name": "stdout",
     "output_type": "stream",
     "text": [
      "Bat\n",
      "Cat\n",
      "dat\n",
      "fat\n",
      "Mat\n",
      "bat\n",
      "zat\n",
      "['Bat', 'Cat', 'dat', 'fat', 'Mat', 'bat', 'zat']\n"
     ]
    }
   ],
   "source": [
    "\"\"\"\n",
    "We can also allow for characters in a range \n",
    "Remember to include upper and lowercase letters\n",
    "\"\"\"\n",
    "SomeText = \"Bat at Cat dat fat Math bath zath ninth\"\n",
    "fndtxt = re.findall(\"[A-Z-a-z]at\", SomeText)\n",
    "for i in fndtxt:\n",
    "    print(i)\n",
    "print(fndtxt)\n"
   ]
  },
  {
   "cell_type": "code",
   "execution_count": 9,
   "metadata": {},
   "outputs": [
    {
     "name": "stdout",
     "output_type": "stream",
     "text": [
      "['em', 'um', 'am', 'em', 'um', 'am']\n",
      "['B', 't', ' ', 't', ' ', 'C', 't', ' ', 'd', 't', ' ', 'f', 't', ' ', 'M', 't', 'h', ' ', 'b', 't', 'h', ' ', 'z', 't', 'h', ' ', 'n', 'n', 't', 'h']\n"
     ]
    }
   ],
   "source": [
    "# ^ Negated set Match any character that is not in the set\n",
    "Txt = \"Lorem ipsum dolor sitamet, Lorem ipsum dolor sitamet\"\n",
    "txt2 = \"Bat at Cat dat fat Math bath zath nanth\"\n",
    "smeTxt2 = re.findall(\"[^a]\",txt2) \n",
    "smeTxt = re.findall(\"[^b]m\", Txt)\n",
    "for i in (smeTxt, smeTxt2):\n",
    "    print(i)"
   ]
  },
  {
   "cell_type": "code",
   "execution_count": 10,
   "metadata": {},
   "outputs": [
    {
     "name": "stdout",
     "output_type": "stream",
     "text": [
      "re.compile('[^ ]at')\n",
      "bot at bot bot bot both both both ninth\n"
     ]
    }
   ],
   "source": [
    "\"\"\"\n",
    "----Replace All Matches----\n",
    "Replace Matching Items in a string\n",
    "\"\"\"\n",
    "food = \"Bat at Cat dat fat Math bath zath ninth\"\n",
    "# We can compile a regex into pattern objects which\n",
    "# provide additional methods\n",
    "reg = re.compile(\"[^ ]at\")\n",
    "print(reg)\n",
    "# sub() replaces items that match the regex in the string \n",
    "# with the 1st attribute string passed to sub\n",
    "food = reg.sub(\"bot\",food)\n",
    "print(food)"
   ]
  },
  {
   "cell_type": "code",
   "execution_count": 11,
   "metadata": {},
   "outputs": [
    {
     "name": "stdout",
     "output_type": "stream",
     "text": [
      "Find \\stuff :  None\n",
      "Find \\stuff :  <re.Match object; span=(12, 18), match='\\\\stuff'>\n",
      "Find \\stuff :  <re.Match object; span=(12, 18), match='\\\\stuff'>\n"
     ]
    }
   ],
   "source": [
    "\"\"\"\n",
    "---- Solving Backslash Problems----\n",
    "Regex use the backslash to designate special characters\n",
    "and Python does the same inside strings which causes issues\n",
    "lets try to get \"\\\\stuff\" out of a string \n",
    "\"\"\"\n",
    "smple = \"Here is the \\\\stuff\"\n",
    "# this wont find it\n",
    "print(\"Find \\\\stuff : \", re.search(\"\\\\stuff\", smple))\n",
    "\n",
    "# This does but we have to put in 4 slashes which is inconvenient\n",
    "print(\"Find \\\\stuff : \", re.search(\"\\\\\\\\stuff\", smple))\n",
    "# We can get around this by using raw strings which don't treat\n",
    "# backslashes as special\n",
    "print(\"Find \\\\stuff : \", re.search(r\"\\\\stuff\",smple))\n"
   ]
  },
  {
   "cell_type": "markdown",
   "metadata": {},
   "source": [
    "-----Matching Any Character-----\n",
    "We saw that '.' matches any character but what is we want to match a period. \n",
    "Backslash the period we do the same with [, ] and other\n",
    "Let's see a sample text = F.B.I.\n",
    ". -> any character --> F\n",
    "\\. -> Dot character --> .\n",
    ". -> any character --> B\n",
    "\\. -> Dot          --> .\n",
    ". -> any character --> I\n",
    "Result => F.B.I"
   ]
  },
  {
   "cell_type": "code",
   "execution_count": 12,
   "metadata": {},
   "outputs": [
    {
     "name": "stdout",
     "output_type": "stream",
     "text": [
      "Matches :  2\n",
      "Matches :  ['F.B.I', 'I.R.S']\n"
     ]
    }
   ],
   "source": [
    "text = \"F.B.I. I.R.S. CIA\"\n",
    "\n",
    "print(\"Matches : \", len(re.findall(\".\\..\\..\", text))) \n",
    "print(\"Matches : \", re.findall(\".\\..\\..\", text))"
   ]
  },
  {
   "cell_type": "markdown",
   "metadata": {},
   "source": [
    "#### Match Any whitespace #####\n",
    "We can match many whitespace characters"
   ]
  },
  {
   "cell_type": "code",
   "execution_count": 13,
   "metadata": {},
   "outputs": [
    {
     "name": "stdout",
     "output_type": "stream",
     "text": [
      "Lorem ipsum dolor \n",
      "sitamet there are some \n",
      "whitespaces around here \n",
      "with new lines\n",
      "Lorem ipsum dolor  sitamet there are some  whitespaces around here  with new lines\n"
     ]
    }
   ],
   "source": [
    "text = \"\"\"Lorem ipsum dolor \n",
    "sitamet there are some \n",
    "whitespaces around here \n",
    "with new lines\"\"\"\n",
    "print(text)\n",
    "\n",
    "#remove newlines\n",
    "reGex = re.compile(\"\\n\")\n",
    "text_3 = reGex.sub(\" \", text)\n",
    "print(text_3)\n",
    "\n",
    "#we can also match\n",
    "#\\b : Backspace\n",
    "#\\f : Form Feed\n",
    "#\\r : Carriage Return\n",
    "#\\t : Tab\n",
    "#\\v : Vertical Tab\n"
   ]
  },
  {
   "cell_type": "markdown",
   "metadata": {},
   "source": [
    "--Matching Any Single Number--\n",
    "\\d can be used instead of [0-9]\n",
    "\\D is used instead of [^0-9]"
   ]
  },
  {
   "cell_type": "code",
   "execution_count": 35,
   "metadata": {},
   "outputs": [
    {
     "name": "stdout",
     "output_type": "stream",
     "text": [
      "Matches : 9\n",
      "['1', '2', '3', '4', '5', '6', '7', '8', '9']\n",
      "[]\n"
     ]
    }
   ],
   "source": [
    "nmber = \"123456789\"\n",
    "\n",
    "nmbr = re.findall(\"\\d\", nmber)\n",
    "nm = re.findall(\"\\D\", nmber)\n",
    "\n",
    "print(\"Matches :\", len(re.findall(\"\\d\", nmber)))\n",
    "print(nmbr)\n",
    "print(nm)"
   ]
  },
  {
   "cell_type": "markdown",
   "metadata": {},
   "source": [
    "--------- Matching Multiple Numbers ---------\n",
    "You can match multiple digits by following the \\d with {numOfValues}"
   ]
  },
  {
   "cell_type": "code",
   "execution_count": 49,
   "metadata": {},
   "outputs": [
    {
     "name": "stdout",
     "output_type": "stream",
     "text": [
      "Not this one\n",
      "<re.Match object; span=(0, 5), match='12345'>\n",
      "Matces : 2\n",
      "['123456', '1234567']\n"
     ]
    }
   ],
   "source": [
    "# Match 5 numbers only\n",
    "if re.search(\"\\d{5}\", \"1234\"):\n",
    "    print(\"It's a zipcode\")\n",
    "else: print(\"Not this one\")\n",
    "tt = re.search(\"\\d{5}\",\"123459999\")\n",
    "print(tt)\n",
    "# we can also match within a range\n",
    "# match values that are between 5 and 7 digits\n",
    "numvals = \"123 123456 1234567\"\n",
    "numvals_2 = re.findall(\"\\d{5,7}\",numvals)\n",
    "print(\"Matces :\", len(re.findall(\"\\d{5,7}\",numvals)))\n",
    "print(numvals_2)"
   ]
  },
  {
   "cell_type": "markdown",
   "metadata": {},
   "source": [
    "---- Matching Any Single Letter or Number ----\n",
    "\\w is the same as [a-zA-Z0-9_]\n",
    "\\W is the same as [^a-zA-Z0-9_]"
   ]
  },
  {
   "cell_type": "code",
   "execution_count": 97,
   "metadata": {},
   "outputs": [
    {
     "name": "stdout",
     "output_type": "stream",
     "text": [
      "<re.Match object; span=(0, 7), match='555-553'>\n",
      "This is a Valid number : 555-553-5555\n",
      "It is a valid name qasd asdasd\n"
     ]
    }
   ],
   "source": [
    "num_1 = \"555-553-5555\"\n",
    "name = \"qasd asdasd\"\n",
    "#check if this is a phone number\n",
    "tst = re.search(\"\\w{1,3}-\\w{1,3}\\w{1,4}\", num_1)\n",
    "print(tst)\n",
    "if re.search(\"\\w{1,3}-\\w{1,3}\\w{1,4}\", num_1):print(\"This is a Valid number :\", num_1)\n",
    "else:print(\"Invalid number :\" ,num_1)\n",
    "# check if the first name btw 2 and 20 chars\n",
    "if re.search(\"\\w{3,10}\", name): print(\"It is a valid name\", name)\n",
    "else:print(name, \"is not valid\")"
   ]
  },
  {
   "cell_type": "markdown",
   "metadata": {},
   "source": [
    "---- Matching White Space ----\n",
    "\\s is the same as [\\f\\n\\r\\t\\v]\n",
    "\\S is the same as [^\\f\\n\\r\\t\\v]"
   ]
  },
  {
   "cell_type": "code",
   "execution_count": 105,
   "metadata": {},
   "outputs": [
    {
     "name": "stdout",
     "output_type": "stream",
     "text": [
      "This is a valid full name\n"
     ]
    }
   ],
   "source": [
    "# Check for a valid full name\n",
    "name_2 = \"Satoshia Nakamoto\"\n",
    "\n",
    "if re.search(\"\\w{3,10}\\s\\w{2,20}\", name_2):print(\"This is a valid full name\")\n",
    "else:print(\"This is not a Valid name\")"
   ]
  },
  {
   "cell_type": "markdown",
   "metadata": {},
   "source": [
    "--- Matching One or More ---\n",
    "+ matches 1 or more Characters\n",
    "Match a followed by 1 or more characters"
   ]
  },
  {
   "cell_type": "code",
   "execution_count": 3,
   "metadata": {},
   "outputs": [
    {
     "name": "stdout",
     "output_type": "stream",
     "text": [
      "Matches : 3\n",
      "Matches : ['a', 'a', 'a']\n"
     ]
    }
   ],
   "source": [
    "print(\"Matches :\", len(re.findall(\"a+\",\"a as ape bug\")))\n",
    "print(\"Matches :\", re.findall(\"a+\", \"a as ape bug\"))"
   ]
  },
  {
   "cell_type": "markdown",
   "metadata": {},
   "source": [
    "----- Practice Problem -----\n",
    "Create a regex that matches email address from a list\n",
    "1- 1 to 20 Lowercase and uppercase letters, numbers, plus ._%+-\n",
    "2- an @symbol\n",
    "3- 2 to 20 Lowercase and uppercase Letters, numbers, plus .-\n",
    "4- A period\n",
    "5- 2 to 3 Lowercase annd Uppercase Letters\n"
   ]
  },
  {
   "cell_type": "code",
   "execution_count": 4,
   "metadata": {},
   "outputs": [
    {
     "name": "stdout",
     "output_type": "stream",
     "text": [
      "Email Matches : 1\n",
      "Email Matches : ['db@aol.com']\n"
     ]
    }
   ],
   "source": [
    "emailList = \"db@aol.com m@.com @apple.com db@.com\"\n",
    "\n",
    "print(\"Email Matches :\", len(re.findall(\"[\\w._%+-]{1,20}@[\\w.-]{2,20}.[A-Za-z]{2,20}\", emailList)))\n",
    "print(\"Email Matches :\", re.findall(\"[\\w._%+-]{1,20}@[\\w.-]{2,20}.[A-Za-z]{2,20}\", emailList))"
   ]
  }
 ],
 "metadata": {
  "kernelspec": {
   "display_name": "Python 3.10.1 64-bit",
   "language": "python",
   "name": "python3"
  },
  "language_info": {
   "codemirror_mode": {
    "name": "ipython",
    "version": 3
   },
   "file_extension": ".py",
   "mimetype": "text/x-python",
   "name": "python",
   "nbconvert_exporter": "python",
   "pygments_lexer": "ipython3",
   "version": "3.10.1"
  },
  "orig_nbformat": 4,
  "vscode": {
   "interpreter": {
    "hash": "f6ed830c0c39d7fc52b2a8cf6c5a1c0f77a94f141a44c21187562bfb09d0ee55"
   }
  }
 },
 "nbformat": 4,
 "nbformat_minor": 2
}
