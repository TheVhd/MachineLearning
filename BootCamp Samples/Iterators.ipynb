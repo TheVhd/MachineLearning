{
 "cells": [
  {
   "cell_type": "code",
   "execution_count": 5,
   "metadata": {},
   "outputs": [
    {
     "name": "stdout",
     "output_type": "stream",
     "text": [
      "11\n",
      "22\n",
      "55\n",
      "33\n"
     ]
    }
   ],
   "source": [
    "# Defining a List\n",
    "a_list = [11,22,55,33]\n",
    "\n",
    "# get an iterator using iter() method\n",
    "this_iter = iter(a_list)\n",
    "\n",
    "# iterate through it using next() method\n",
    "print(next(this_iter))\n",
    "# output -> 11\n",
    "\n",
    "print(next(this_iter))\n",
    "# output -> 22\n",
    "\n",
    "# Next(obj) is same as calling obj.__next()__ method\n",
    "\n",
    "print(this_iter.__next__()) \n",
    "# This will print 55\n",
    "print(this_iter.__next__())\n",
    "# This will print 33\n",
    "\n",
    "# print(this_iter.__next__()) --> Throws error because no element left"
   ]
  },
  {
   "cell_type": "code",
   "execution_count": 20,
   "metadata": {},
   "outputs": [
    {
     "name": "stdout",
     "output_type": "stream",
     "text": [
      "\n",
      "    Class to implement an iterator of powers\n",
      "    \n",
      "1\n",
      "2\n",
      "4\n"
     ]
    }
   ],
   "source": [
    "# Creating a custom iterator\n",
    "class pow_of_two:\n",
    "    \"\"\"\n",
    "    Class to implement an iterator of powers\n",
    "    \"\"\"\n",
    "\n",
    "    def __init__(self, max = 0):\n",
    "        self.max = max\n",
    "\n",
    "    def __iter__(self):\n",
    "        self.n = 0\n",
    "        return self\n",
    "\n",
    "    def __next__(self):\n",
    "        if self.n <= self.max:\n",
    "            result = 2 ** self.n\n",
    "            self.n += 1\n",
    "            return result\n",
    "        else: raise StopIteration\n",
    "    \n",
    "print(pow_of_two.__doc__)\n",
    "a = pow_of_two(5)\n",
    "i = iter(a)\n",
    "print(next(i))\n",
    "print(next(i))\n",
    "print(next(i))\n"
   ]
  },
  {
   "cell_type": "code",
   "execution_count": 22,
   "metadata": {},
   "outputs": [
    {
     "name": "stdout",
     "output_type": "stream",
     "text": [
      "1\n",
      "3\n",
      "5\n",
      "7\n"
     ]
    }
   ],
   "source": [
    "# Create an infinizte itearator\n",
    "\n",
    "class Infinite_Iter:\n",
    "    \"\"\"\n",
    "    An infinite iterator to return all odd numbers\n",
    "    \"\"\"\n",
    "    def __iter__(self):\n",
    "        self.num = 1\n",
    "        return self\n",
    "\n",
    "    def __next__(self):\n",
    "        num = self.num\n",
    "        self.num += 2\n",
    "        return num\n",
    "\n",
    "i = Infinite_Iter()\n",
    "a = iter(i)\n",
    "print(next(a))\n",
    "print(next(a))\n",
    "print(next(a))\n",
    "print(next(a))"
   ]
  }
 ],
 "metadata": {
  "kernelspec": {
   "display_name": "Python 3.10.1 64-bit",
   "language": "python",
   "name": "python3"
  },
  "language_info": {
   "codemirror_mode": {
    "name": "ipython",
    "version": 3
   },
   "file_extension": ".py",
   "mimetype": "text/x-python",
   "name": "python",
   "nbconvert_exporter": "python",
   "pygments_lexer": "ipython3",
   "version": "3.10.1"
  },
  "orig_nbformat": 4,
  "vscode": {
   "interpreter": {
    "hash": "f6ed830c0c39d7fc52b2a8cf6c5a1c0f77a94f141a44c21187562bfb09d0ee55"
   }
  }
 },
 "nbformat": 4,
 "nbformat_minor": 2
}
