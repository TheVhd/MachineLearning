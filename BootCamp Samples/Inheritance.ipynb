{
 "cells": [
  {
   "cell_type": "code",
   "execution_count": 1,
   "metadata": {},
   "outputs": [],
   "source": [
    "# Creating Class and Object in Python\n",
    "\n",
    "class myBird:\n",
    "\n",
    "    def __init__(self):\n",
    "        print(\"myBird class constructor is executing... \")\n",
    "\n",
    "    def whatType(self):\n",
    "        print(\"I am a bird\")\n",
    "    \n",
    "    def canSwim(self):\n",
    "        print(\"I can swim\")"
   ]
  },
  {
   "cell_type": "code",
   "execution_count": 2,
   "metadata": {},
   "outputs": [],
   "source": [
    "# My penguin class inheriting the attributes from the myBird class\n",
    "\n",
    "class myPenguin(myBird):\n",
    "\n",
    "    def __init__(self):\n",
    "        #call super function\n",
    "        super().__init__()\n",
    "        print(\"myPenguin class is executing ..\")\n",
    "    \n",
    "    def whoIsThis(self):\n",
    "        print(\"I am a Penguin\")\n",
    "    \n",
    "    def canRun(self):\n",
    "        print(\"I can run\")"
   ]
  },
  {
   "cell_type": "code",
   "execution_count": 3,
   "metadata": {},
   "outputs": [
    {
     "name": "stdout",
     "output_type": "stream",
     "text": [
      "myBird class constructor is executing... \n",
      "myPenguin class is executing ..\n",
      "I am a bird\n",
      "I am a Penguin\n",
      "I can swim\n",
      "I can run\n"
     ]
    }
   ],
   "source": [
    "# Accessing the child class's attributes (Inheritance)\n",
    "pg1 = myPenguin()\n",
    "pg1.whatType()  # Defined in myBird class\n",
    "pg1.whoIsThis() # Defined in myPenguin class\n",
    "pg1.canSwim()   # Defined in myBird class\n",
    "pg1.canRun()    # Defined in myPenguin class"
   ]
  },
  {
   "cell_type": "code",
   "execution_count": 8,
   "metadata": {},
   "outputs": [],
   "source": [
    "# Polymorhism\n",
    "\n",
    "class myParrot:\n",
    "\n",
    "    def canFly(self):\n",
    "        print(\"Parrots can fly!\")\n",
    "    \n",
    "    def canSwim(self):\n",
    "        print(\"Parrots can not swim!\")\n"
   ]
  },
  {
   "cell_type": "code",
   "execution_count": 9,
   "metadata": {},
   "outputs": [],
   "source": [
    "class myPengu:\n",
    "\n",
    "    def canFly(self):\n",
    "        print(\"Penguins can not fly!\")\n",
    "    \n",
    "    def canSwim(self):\n",
    "        print(\"Pengiuns can swim!\")"
   ]
  },
  {
   "cell_type": "code",
   "execution_count": 10,
   "metadata": {},
   "outputs": [],
   "source": [
    "# common interface\n",
    "\n",
    "def flying_bird_test(bird):\n",
    "    bird.canFly()\n",
    "    bird.canSwim()"
   ]
  },
  {
   "cell_type": "code",
   "execution_count": 11,
   "metadata": {},
   "outputs": [
    {
     "name": "stdout",
     "output_type": "stream",
     "text": [
      "Parrots can fly!\n",
      "Parrots can not swim!\n",
      "\n",
      "Penguins can not fly!\n",
      "Pengiuns can swim!\n"
     ]
    }
   ],
   "source": [
    "# Instantiate objects\n",
    "\n",
    "bird_parrot = myParrot()\n",
    "bird_penguin = myPengu()\n",
    "\n",
    "# passing the object\n",
    "flying_bird_test(bird_parrot)\n",
    "print()\n",
    "flying_bird_test(bird_penguin)"
   ]
  }
 ],
 "metadata": {
  "kernelspec": {
   "display_name": "Python 3.10.1 64-bit",
   "language": "python",
   "name": "python3"
  },
  "language_info": {
   "codemirror_mode": {
    "name": "ipython",
    "version": 3
   },
   "file_extension": ".py",
   "mimetype": "text/x-python",
   "name": "python",
   "nbconvert_exporter": "python",
   "pygments_lexer": "ipython3",
   "version": "3.10.1"
  },
  "orig_nbformat": 4,
  "vscode": {
   "interpreter": {
    "hash": "f6ed830c0c39d7fc52b2a8cf6c5a1c0f77a94f141a44c21187562bfb09d0ee55"
   }
  }
 },
 "nbformat": 4,
 "nbformat_minor": 2
}
